{
 "cells": [
  {
   "cell_type": "markdown",
   "id": "d1f3bf9e",
   "metadata": {},
   "source": [
    "## LAB TITLE: MACHINE LEARNING$\\;\\;\\;\\;\\;\\;\\;\\;\\;\\;\\;\\;\\;\\;\\;\\;\\;\\;\\;\\;\\;\\;\\;\\;\\;\\;\\;\\;\\;\\;\\;\\;\\;\\;\\;\\;\\;\\;\\;\\;\\;\\;$ \tLAB CODE: CSE4036"
   ]
  },
  {
   "cell_type": "code",
   "execution_count": 3,
   "id": "a268d4ba",
   "metadata": {},
   "outputs": [
    {
     "name": "stdout",
     "output_type": "stream",
     "text": [
      "Reg. Number:21MIS1012\n",
      "Name:Tulasi Prasad\n"
     ]
    }
   ],
   "source": [
    "Num, Name = input(\"Reg. Number:\"), input(\"Name:\")"
   ]
  },
  {
   "cell_type": "markdown",
   "id": "665fb470",
   "metadata": {},
   "source": [
    "###  Practice the links given below and upload the worked out notebook in LMS"
   ]
  },
  {
   "cell_type": "markdown",
   "id": "ffe26562",
   "metadata": {},
   "source": [
    "#### [Numpy Operations](https://towardsdatascience.com/20-numpy-operations-that-every-data-scientist-should-know-fb44bb52bde5)"
   ]
  },
  {
   "cell_type": "markdown",
   "id": "96875697",
   "metadata": {},
   "source": [
    "#### [Pandas Operations](https://towardsdatascience.com/14-pandas-operations-that-every-data-scientist-must-know-cc326dc4e6ee)"
   ]
  },
  {
   "cell_type": "markdown",
   "id": "be0c8ce7",
   "metadata": {},
   "source": [
    "#### [Python Basics](https://towardsdatascience.com/10-must-know-topics-of-python-for-data-science-9ce36a5b9681)"
   ]
  },
  {
   "cell_type": "code",
   "execution_count": null,
   "id": "e651078c",
   "metadata": {},
   "outputs": [],
   "source": []
  }
 ],
 "metadata": {
  "kernelspec": {
   "display_name": "Python 3 (ipykernel)",
   "language": "python",
   "name": "python3"
  },
  "language_info": {
   "codemirror_mode": {
    "name": "ipython",
    "version": 3
   },
   "file_extension": ".py",
   "mimetype": "text/x-python",
   "name": "python",
   "nbconvert_exporter": "python",
   "pygments_lexer": "ipython3",
   "version": "3.9.12"
  }
 },
 "nbformat": 4,
 "nbformat_minor": 5
}
